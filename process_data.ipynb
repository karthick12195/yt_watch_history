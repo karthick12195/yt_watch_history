{
 "cells": [
  {
   "cell_type": "code",
   "execution_count": 1,
   "id": "52b891af-c263-47e4-bf17-d998258af448",
   "metadata": {},
   "outputs": [],
   "source": [
    "from bs4 import BeautifulSoup\n",
    "import pandas as pd\n",
    "from pytubefix import YouTube\n",
    "from datetime import datetime\n",
    "import numpy as np"
   ]
  },
  {
   "cell_type": "code",
   "execution_count": 2,
   "id": "a60c652e-b7b5-4a1e-8594-7bf7258a8165",
   "metadata": {},
   "outputs": [],
   "source": [
    "# Read HTML content from file\n",
    "file_path = 'data/Takeout/YouTube and YouTube Music/history/watch-history.html'  # Replace with the actual path to your HTML file\n",
    "with open(file_path, 'r', encoding='utf-8') as file:\n",
    "    html_content = file.read()\n",
    "\n",
    "# Parse HTML content with BeautifulSoup\n",
    "soup = BeautifulSoup(html_content, 'html.parser')\n",
    "\n",
    "div_elements = soup.find_all('div', class_='content-cell')"
   ]
  },
  {
   "cell_type": "code",
   "execution_count": 3,
   "id": "11637c1f-d8b2-47c6-b36d-127317a81202",
   "metadata": {},
   "outputs": [
    {
     "data": {
      "text/plain": "                                               Title            Channel  \\\n0  होटल जैसा पनीर बटर मसाला | Restaurant style Pa...  Chef Ranveer Brar   \n1       What is the Riemann Hypothesis REALLY about?      HexagonVideos   \n2                            It Was Just A Warm-Up!😩   Squat University   \n3  Top Pitches With A $1M Valuation In Celebratio...  Shark Tank Global   \n4                     Rating Lebanon's National Dish             KWOOWK   \n\n                  Timestamp                                   Video Link  \\\n0 2023-11-22 10:25:00-08:00  https://www.youtube.com/watch?v=a30BLUQiFoc   \n1 2023-11-22 09:06:11-08:00  https://www.youtube.com/watch?v=e4kOh7qlsM4   \n2 2023-11-22 09:04:52-08:00  https://www.youtube.com/watch?v=7PbWfSX74RU   \n3 2023-11-22 00:20:22-08:00  https://www.youtube.com/watch?v=Jn1CimnV290   \n4 2023-11-22 00:19:32-08:00  https://www.youtube.com/watch?v=9M8pwa-qcr0   \n\n                                        Channel Link  \n0  https://www.youtube.com/channel/UCEHCDn_BBnk3u...  \n1  https://www.youtube.com/channel/UCQoJIigcorV_0...  \n2  https://www.youtube.com/channel/UCyPYQTT20IgzV...  \n3  https://www.youtube.com/channel/UCREgA-BmOocJ9...  \n4  https://www.youtube.com/channel/UC3vQEjRhwgH2H...  ",
      "text/html": "<div>\n<style scoped>\n    .dataframe tbody tr th:only-of-type {\n        vertical-align: middle;\n    }\n\n    .dataframe tbody tr th {\n        vertical-align: top;\n    }\n\n    .dataframe thead th {\n        text-align: right;\n    }\n</style>\n<table border=\"1\" class=\"dataframe\">\n  <thead>\n    <tr style=\"text-align: right;\">\n      <th></th>\n      <th>Title</th>\n      <th>Channel</th>\n      <th>Timestamp</th>\n      <th>Video Link</th>\n      <th>Channel Link</th>\n    </tr>\n  </thead>\n  <tbody>\n    <tr>\n      <th>0</th>\n      <td>होटल जैसा पनीर बटर मसाला | Restaurant style Pa...</td>\n      <td>Chef Ranveer Brar</td>\n      <td>2023-11-22 10:25:00-08:00</td>\n      <td>https://www.youtube.com/watch?v=a30BLUQiFoc</td>\n      <td>https://www.youtube.com/channel/UCEHCDn_BBnk3u...</td>\n    </tr>\n    <tr>\n      <th>1</th>\n      <td>What is the Riemann Hypothesis REALLY about?</td>\n      <td>HexagonVideos</td>\n      <td>2023-11-22 09:06:11-08:00</td>\n      <td>https://www.youtube.com/watch?v=e4kOh7qlsM4</td>\n      <td>https://www.youtube.com/channel/UCQoJIigcorV_0...</td>\n    </tr>\n    <tr>\n      <th>2</th>\n      <td>It Was Just A Warm-Up!😩</td>\n      <td>Squat University</td>\n      <td>2023-11-22 09:04:52-08:00</td>\n      <td>https://www.youtube.com/watch?v=7PbWfSX74RU</td>\n      <td>https://www.youtube.com/channel/UCyPYQTT20IgzV...</td>\n    </tr>\n    <tr>\n      <th>3</th>\n      <td>Top Pitches With A $1M Valuation In Celebratio...</td>\n      <td>Shark Tank Global</td>\n      <td>2023-11-22 00:20:22-08:00</td>\n      <td>https://www.youtube.com/watch?v=Jn1CimnV290</td>\n      <td>https://www.youtube.com/channel/UCREgA-BmOocJ9...</td>\n    </tr>\n    <tr>\n      <th>4</th>\n      <td>Rating Lebanon's National Dish</td>\n      <td>KWOOWK</td>\n      <td>2023-11-22 00:19:32-08:00</td>\n      <td>https://www.youtube.com/watch?v=9M8pwa-qcr0</td>\n      <td>https://www.youtube.com/channel/UC3vQEjRhwgH2H...</td>\n    </tr>\n  </tbody>\n</table>\n</div>"
     },
     "execution_count": 3,
     "metadata": {},
     "output_type": "execute_result"
    }
   ],
   "source": [
    "# Initialize a list to store dictionaries\n",
    "video_data_list = []\n",
    "\n",
    "for div_element in div_elements:\n",
    "    if len(div_element.find_all('a')) == 2:\n",
    "        video_data = {\n",
    "            'Title': div_element.find('a').text,\n",
    "            'Channel': div_element.find_all('a')[1].text,\n",
    "            'Timestamp': div_element.find_all('br')[-1].next_sibling.strip().replace('\\u202f', ''),\n",
    "            'Video Link': div_element.find('a')['href'],\n",
    "            'Channel Link': div_element.find_all('a')[1]['href']\n",
    "        }\n",
    "\n",
    "        video_data_list.append(video_data)\n",
    "\n",
    "# Convert the list of dictionaries to a DataFrame\n",
    "df = pd.concat([pd.DataFrame([data]) for data in video_data_list], ignore_index=True)\n",
    "\n",
    "# Remove 'PST' from the timestamp string\n",
    "df['Timestamp'] = df['Timestamp'].str.replace(' PST', '')\n",
    "\n",
    "# Convert the 'timestamp' column to datetime objects\n",
    "df['Timestamp'] = pd.to_datetime(df['Timestamp'], format='%b %d, %Y, %I:%M:%S%p')\n",
    "\n",
    "# Set the time zone as 'PST'\n",
    "df['Timestamp'] = df['Timestamp'].dt.tz_localize('US/Pacific')\n",
    "\n",
    "df = df[df['Timestamp'].dt.year == datetime.now().year]\n",
    "\n",
    "# Display the DataFrame\n",
    "df.head()"
   ]
  },
  {
   "cell_type": "code",
   "execution_count": 4,
   "outputs": [
    {
     "name": "stderr",
     "output_type": "stream",
     "text": [
      "/Users/karthickmani/Documents/Python/yt_watch_history/venv/lib/python3.9/site-packages/numpy/core/fromnumeric.py:59: FutureWarning: 'DataFrame.swapaxes' is deprecated and will be removed in a future version. Please use 'DataFrame.transpose' instead.\n",
      "  return bound(*args, **kwds)\n"
     ]
    }
   ],
   "source": [
    "# Define the chunk size\n",
    "chunk_size = 500\n",
    "\n",
    "# Calculate the number of chunks\n",
    "num_chunks = len(df) // chunk_size + 1\n",
    "\n",
    "# Split the DataFrame into chunks\n",
    "chunks = np.array_split(df, num_chunks)"
   ],
   "metadata": {
    "collapsed": false
   }
  },
  {
   "cell_type": "code",
   "execution_count": null,
   "outputs": [
    {
     "name": "stdout",
     "output_type": "stream",
     "text": [
      "2023-12-03 13:56:58.029034 Finished processing chunk 1\n",
      "2023-12-03 14:03:03.052595 Finished processing chunk 2\n",
      "2023-12-03 14:08:47.651607 Finished processing chunk 3\n",
      "2023-12-03 14:15:25.522640 Finished processing chunk 4\n",
      "2023-12-03 14:24:00.664628 Finished processing chunk 5\n",
      "2023-12-03 14:30:12.831208 Finished processing chunk 6\n",
      "2023-12-03 14:35:45.328164 Finished processing chunk 7\n",
      "2023-12-03 14:41:50.068369 Finished processing chunk 8\n",
      "2023-12-03 14:49:07.178008 Finished processing chunk 9\n",
      "2023-12-03 14:55:18.052067 Finished processing chunk 10\n"
     ]
    }
   ],
   "source": [
    "def get_length_video(link):\n",
    "    try:\n",
    "        length = YouTube(link).length\n",
    "    except:\n",
    "        length = -1\n",
    "    return length\n",
    "\n",
    "i = 0\n",
    "for chunk in chunks:\n",
    "    chunk['Video Length'] = chunk['Video Link'].apply(lambda x: get_length_video(x))\n",
    "    i += 1\n",
    "    print(f'{datetime.now()} Finished processing chunk {i}')"
   ],
   "metadata": {
    "collapsed": false,
    "pycharm": {
     "is_executing": true
    }
   }
  },
  {
   "cell_type": "code",
   "execution_count": null,
   "outputs": [],
   "source": [
    "# Apply your function to each chunk\n",
    "result_chunks = [your_function(chunk) for chunk in chunks]\n",
    "\n",
    "# Concatenate the results back into a single DataFrame\n",
    "result_df = pd.concat(result_chunks)"
   ],
   "metadata": {
    "collapsed": false
   }
  },
  {
   "cell_type": "code",
   "execution_count": null,
   "outputs": [],
   "source": [
    "import os\n",
    "os.system('say \"your program has finished\"')"
   ],
   "metadata": {
    "collapsed": false
   }
  },
  {
   "cell_type": "code",
   "execution_count": null,
   "outputs": [],
   "source": [],
   "metadata": {
    "collapsed": false
   }
  }
 ],
 "metadata": {
  "kernelspec": {
   "display_name": "Python 3 (ipykernel)",
   "language": "python",
   "name": "python3"
  },
  "language_info": {
   "codemirror_mode": {
    "name": "ipython",
    "version": 3
   },
   "file_extension": ".py",
   "mimetype": "text/x-python",
   "name": "python",
   "nbconvert_exporter": "python",
   "pygments_lexer": "ipython3",
   "version": "3.9.6"
  }
 },
 "nbformat": 4,
 "nbformat_minor": 5
}
